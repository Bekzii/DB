{
 "cells": [
  {
   "cell_type": "markdown",
   "metadata": {},
   "source": [
    "#### Wyższa Szkoła Ekonomii i Innowacji w Lublinie\n",
    "\n",
    "\n",
    "# Machine Learning\n",
    "### Projects: Regression, Classification, Clustering\n",
    "\n",
    "\n",
    "\n",
    "\n",
    "\n",
    "Authors: \n",
    "[Kaustubh Padwal],\n",
    "[Viren Patil],\n",
    "[Abdusaidov Bekzod]\n",
    "\n",
    "\n",
    "Lublin 2020"
   ]
  },
  {
   "cell_type": "markdown",
   "metadata": {},
   "source": [
    "## Requirement:\n",
    "Use at least neutral network model, SVM model\n",
    "\n"
   ]
  },
  {
   "cell_type": "markdown",
   "metadata": {},
   "source": [
    "## Project 1: Regression\n",
    "Use two different models to run regression task over sklearn.datasets.load_diabetes¶ dataset"
   ]
  },
  {
   "cell_type": "code",
   "execution_count": null,
   "metadata": {},
   "outputs": [],
   "source": []
  },
  {
   "cell_type": "markdown",
   "metadata": {},
   "source": [
    "### Model 1.1 - Linear Regression\n"
   ]
  },
  {
      "metadata": {
        "trusted": true
      },
      "cell_type": "code",
      "source": "import matplotlib.pyplot as plt\nimport numpy as np\nfrom sklearn import datasets, linear_model\nfrom sklearn.metrics import mean_squared_error, r2_score\n\n# Load the diabetes dataset\ndiabetes_X, diabetes_y = datasets.load_diabetes(return_X_y=True)\n\n# Use only one feature\ndiabetes_X = diabetes_X[:, np.newaxis, 2]\n\n# Split the data into training/testing sets\ndiabetes_X_train = diabetes_X[:-20]\ndiabetes_X_test = diabetes_X[-20:]\n\n# Split the targets into training/testing sets\ndiabetes_y_train = diabetes_y[:-20]\ndiabetes_y_test = diabetes_y[-20:]\n\n# Create linear regression object\nregr = linear_model.LinearRegression()\n\n# Train the model using the training sets\nregr.fit(diabetes_X_train, diabetes_y_train)\n\n# Make predictions using the testing set\ndiabetes_y_pred = regr.predict(diabetes_X_test)\n\n# The coefficients\nprint('Coefficients: \\n', regr.coef_)\n# The mean squared error\nprint('Mean squared error: %.2f'\n      % mean_squared_error(diabetes_y_test, diabetes_y_pred))\n# The coefficient of determination: 1 is perfect prediction\nprint('Coefficient of determination: %.2f'\n      % r2_score(diabetes_y_test, diabetes_y_pred))\n\n# Plot outputs\nplt.scatter(diabetes_X_test, diabetes_y_test,  color='black')\nplt.plot(diabetes_X_test, diabetes_y_pred, color='blue', linewidth=3)\n\nplt.xticks(())\nplt.yticks(())\n\nplt.show()",
      "execution_count": 5,
      "outputs": [
        {
          "output_type": "stream",
          "text": "Coefficients: \n [938.23786125]\nMean squared error: 2548.07\nCoefficient of determination: 0.47\n",
          "name": "stdout"
        },
        {
          "output_type": "display_data",
          "data": {
            "image/png": "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\n",
            "text/plain": "<Figure size 432x288 with 1 Axes>"
          },
          "metadata": {}
        }
      ]
    }
  ],
  "metadata": {
    "kernelspec": {
      "name": "python36",
      "display_name": "Python 3.6",
      "language": "python"
    },
    "language_info": {
      "mimetype": "text/x-python",
      "nbconvert_exporter": "python",
      "name": "python",
      "pygments_lexer": "ipython3",
      "version": "3.6.6",
      "file_extension": ".py",
      "codemirror_mode": {
        "version": 3,
        "name": "ipython"
      }
    }
  },
  "nbformat": 4,
  "nbformat_minor": 2
},
  {
   "cell_type": "markdown",
   "metadata": {},
   "source": [
    "### Model 1.2 - Logistic Regression\n",
   ]
  },
  {
   "cell_type": "code",
   "execution_count": 22,
   "metadata": {},
   "outputs": [
    {
     "name": "stdout",
     "output_type": "stream",
     "text": [
      "0.7619047619047619\n",
      "[[130  17]\n",
      " [ 38  46]]\n"
     ]
    },
    {
     "name": "stderr",
     "output_type": "stream",
     "text": [
      "/home/nbuser/anaconda3_501/lib/python3.6/site-packages/sklearn/linear_model/logistic.py:433: FutureWarning: Default solver will be changed to 'lbfgs' in 0.22. Specify a solver to silence this warning.\n",
      "  FutureWarning)\n",
      "/home/nbuser/anaconda3_501/lib/python3.6/site-packages/sklearn/utils/validation.py:761: DataConversionWarning: A column-vector y was passed when a 1d array was expected. Please change the shape of y to (n_samples, ), for example using ravel().\n",
      "  y = column_or_1d(y, warn=True)\n"
     ]
    }
   ],
   "source": [
    "# import libraries\n",
    "import pandas as pd\n",
    "import numpy as np\n",
    "from sklearn.linear_model import LogisticRegression\n",
    "from sklearn.model_selection import train_test_split\n",
    "\n",
    "# to create plots\n",
    "import seaborn as sns\n",
    "import matplotlib.pyplot as plt\n",
    "\n",
    "# calculate accuracy measure\n",
    "from sklearn import metrics\n",
    "\n",
    "# load csv file\n",
    "Data=pd.read_csv(\"diabetes.csv\")\n",
    "\n",
    "X= Data.drop(\"Outcome\", axis=1)\n",
    "y= Data[[\"Outcome\"]]\n",
    "\n",
    "X_train, X_test, y_train, y_test = train_test_split(X,y,test_size=0.30, random_state=7)\n",
    "\n",
    "# fit model on 30% data\n",
    "model = LogisticRegression()\n",
    "model.fit(X_train, y_train)\n",
    "y_predict=model.predict(X_test)\n",
    "model_score=model.score(X_test, y_test)\n",
    "\n",
    "print(model_score)\n",
    "print(metrics.confusion_matrix(y_test, y_predict))"
   ]
  },
  {
   "cell_type": "code",
   "execution_count": null,
   "metadata": {},
   "outputs": [],
   "source": []
  }
 ],
 "metadata": {
  "kernelspec": {
   "display_name": "Python 3.6",
   "language": "python",
   "name": "python36"
  }
 },
 "nbformat": 4,
 "nbformat_minor": 2
},
  {
   "cell_type": "markdown",
   "metadata": {},
   "source": [
    "## Project 2: Classification\n",
    "Use two different models to run classification task over sklearn.datasets.load_breast_cancer¶"
   ]
  },
  {
   "cell_type": "markdown",
   "metadata": {},
   "source": [
    "### Model 2.1 - SVM\n",
   ]
  },
  {
   "cell_type": "code",
   "execution_count": 43,
   "metadata": {},
   "outputs": [
    {
     "name": "stdout",
     "output_type": "stream",
     "text": [
      "         id diagnosis  radius_mean  texture_mean  perimeter_mean  area_mean  \\\n",
      "0    842302         M        17.99         10.38          122.80     1001.0   \n",
      "1    842517         M        20.57         17.77          132.90     1326.0   \n",
      "2  84300903         M        19.69         21.25          130.00     1203.0   \n",
      "3  84348301         M        11.42         20.38           77.58      386.1   \n",
      "4  84358402         M        20.29         14.34          135.10     1297.0   \n",
      "\n",
      "   smoothness_mean  compactness_mean  concavity_mean  concave points_mean  \\\n",
      "0          0.11840           0.27760          0.3001              0.14710   \n",
      "1          0.08474           0.07864          0.0869              0.07017   \n",
      "2          0.10960           0.15990          0.1974              0.12790   \n",
      "3          0.14250           0.28390          0.2414              0.10520   \n",
      "4          0.10030           0.13280          0.1980              0.10430   \n",
      "\n",
      "      ...       texture_worst  perimeter_worst  area_worst  smoothness_worst  \\\n",
      "0     ...               17.33           184.60      2019.0            0.1622   \n",
      "1     ...               23.41           158.80      1956.0            0.1238   \n",
      "2     ...               25.53           152.50      1709.0            0.1444   \n",
      "3     ...               26.50            98.87       567.7            0.2098   \n",
      "4     ...               16.67           152.20      1575.0            0.1374   \n",
      "\n",
      "   compactness_worst  concavity_worst  concave points_worst  symmetry_worst  \\\n",
      "0             0.6656           0.7119                0.2654          0.4601   \n",
      "1             0.1866           0.2416                0.1860          0.2750   \n",
      "2             0.4245           0.4504                0.2430          0.3613   \n",
      "3             0.8663           0.6869                0.2575          0.6638   \n",
      "4             0.2050           0.4000                0.1625          0.2364   \n",
      "\n",
      "   fractal_dimension_worst  Unnamed: 32  \n",
      "0                  0.11890          NaN  \n",
      "1                  0.08902          NaN  \n",
      "2                  0.08758          NaN  \n",
      "3                  0.17300          NaN  \n",
      "4                  0.07678          NaN  \n",
      "\n",
      "[5 rows x 33 columns]\n",
      "Number of benign cancer:  357\n",
      "Number of malignant cancer:  212\n",
      "[9.82044672e-01 1.61764899e-02 1.55751075e-03 1.20931964e-04\n",
      " 8.82724536e-05 6.64883951e-06 4.01713682e-06 8.22017197e-07\n",
      " 3.44135279e-07 1.86018721e-07 6.99473205e-08 1.65908880e-08\n",
      " 6.99641650e-09 4.78318306e-09 2.93549214e-09 1.41684927e-09\n",
      " 8.29577731e-10 5.20405883e-10 4.08463983e-10 3.63313378e-10\n",
      " 1.72849737e-10 1.27487508e-10 7.72682973e-11 6.28357718e-11\n",
      " 3.57302295e-11 2.76396041e-11 8.14452259e-12 6.30211541e-12\n",
      " 4.43666945e-12 1.55344680e-12]\n",
      "[0.44272026 0.18971182 0.09393163 0.06602135 0.05495768 0.04024522]\n",
      "SVM accuracy: 0.95 (+/- 0.06)\n"
     ]
    },
    {
     "data": {
      "image/png": "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\n",
      "text/plain": [
       "<Figure size 432x288 with 1 Axes>"
      ]
     },
     "metadata": {
      "needs_background": "light"
     },
     "output_type": "display_data"
    },
    {
     "data": {
      "image/png": "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\n",
      "text/plain": [
       "<Figure size 432x288 with 1 Axes>"
      ]
     },
     "metadata": {
      "needs_background": "light"
     },
     "output_type": "display_data"
    },
    {
     "data": {
      "image/png": "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\n",
      "text/plain": [
       "<Figure size 432x288 with 1 Axes>"
      ]
     },
     "metadata": {
      "needs_background": "light"
     },
     "output_type": "display_data"
    }
   ],
   "source": [
    "# Import necessary packages\n",
    "\n",
    "import pandas as pd\n",
    "import numpy as np\n",
    "import seaborn as sns\n",
    "import matplotlib.pyplot as plt\n",
    "from sklearn.model_selection import train_test_split\n",
    "from sklearn.neighbors import KNeighborsClassifier\n",
    "from sklearn.ensemble import RandomForestClassifier\n",
    "from sklearn.naive_bayes import GaussianNB\n",
    "from sklearn.model_selection import cross_val_score\n",
    "from sklearn.metrics import f1_score\n",
    "from sklearn.metrics import confusion_matrix\n",
    "from sklearn.metrics import accuracy_score\n",
    "from sklearn.decomposition import PCA\n",
    "from sklearn import svm\n",
    "from sklearn.pipeline import Pipeline\n",
    "from keras.layers import Activation\n",
    "from keras.layers import Dense\n",
    "from keras.models import Sequential\n",
    "from sklearn.preprocessing import StandardScaler\n",
    "from sklearn.metrics import precision_score\n",
    "from sklearn.metrics import recall_score\n",
    "from sklearn.metrics import f1_score\n",
    "from sklearn.metrics import roc_curve\n",
    "from sklearn.model_selection import cross_val_score\n",
    "from sklearn.manifold import TSNE\n",
    "from sklearn import tree\n",
    "import graphviz\n",
    "\n",
    "# Load data\n",
    "data = pd.read_csv('breast_cancer.csv', delimiter=',')\n",
    "\n",
    "# Head method show first 5 rows of data\n",
    "print(data.head())\n",
    "\n",
    "# Drop unused columns\n",
    "columns = ['Unnamed: 32', 'id', 'diagnosis']\n",
    "\n",
    "# Convert strings -> integers\n",
    "d = {'M': 0, 'B': 1}\n",
    "\n",
    "# Define features and labels\n",
    "y = data['diagnosis'].map(d)\n",
    "X = data.drop(columns, axis=1)\n",
    "\n",
    "# Plot number of M - malignant and B - benign cancer\n",
    "\n",
    "ax = sns.countplot(y, label=\"Count\", palette=\"muted\")\n",
    "B, M = y.value_counts()\n",
    "print('Number of benign cancer: ', B)\n",
    "print('Number of malignant cancer: ', M)\n",
    "\n",
    "# Split dataset into training (80%) and test (20%) set\n",
    "X_train, X_test, y_train, y_test = train_test_split(X, y, test_size=0.2, random_state=0)\n",
    "\n",
    "# Normalize data\n",
    "X_train_N = (X_train-X_train.mean())/(X_train.max()-X_train.min())\n",
    "X_test_N = (X_test-X_train.mean())/(X_test.max()-X_test.min())\n",
    "\n",
    "####### PCA ######\n",
    "\n",
    "\n",
    "# PCA without std\n",
    "pca = PCA()\n",
    "pca.fit(X)\n",
    "print(pca.explained_variance_ratio_)\n",
    "plt.figure()\n",
    "plt.plot(pca.explained_variance_ratio_)\n",
    "plt.xlabel('number of components')\n",
    "plt.ylabel('% of variance')\n",
    "plt.title('PCA without Std')\n",
    "\n",
    "# PCA with std\n",
    "pca = PCA(n_components=6)\n",
    "X_std = StandardScaler().fit_transform(X)\n",
    "pca.fit(X_std)\n",
    "print(pca.explained_variance_ratio_)\n",
    "plt.figure()\n",
    "plt.plot(pca.explained_variance_ratio_)\n",
    "plt.xlabel('number of components')\n",
    "plt.ylabel('% of variance')\n",
    "plt.title('PCA with Std')\n",
    "\n",
    "###### SVM ######\n",
    "\n",
    "svc = svm.SVC(kernel='linear', C=1)\n",
    "\n",
    "# Pipeline\n",
    "model = Pipeline([\n",
    "    ('reduce_dim', pca),\n",
    "    ('svc', svc)\n",
    "])\n",
    "\n",
    "# Fit\n",
    "model.fit(X_train_N, y_train)\n",
    "svm_score = cross_val_score(model, X, y, cv=10, scoring='accuracy')\n",
    "print(\"SVM accuracy: %0.2f (+/- %0.2f)\" % (svm_score.mean(), svm_score.std() * 2))"
   ]
  },
  {
   "cell_type": "code",
   "execution_count": null,
   "metadata": {},
   "outputs": [],
   "source": []
  }
 ],
 "metadata": {
  "kernelspec": {
   "display_name": "Python 3.6",
   "language": "python",
   "name": "python36"
  }
 },
 "nbformat": 4,
 "nbformat_minor": 2
},
  {
   "cell_type": "markdown",
   "metadata": {},
   "source": [
    "### Model 2.2 - K-Nearest Neighbors\n",
   ]
  },
  {
   "cell_type": "code",
   "execution_count": 44,
   "metadata": {},
   "outputs": [
    {
     "name": "stdout",
     "output_type": "stream",
     "text": [
      "         id diagnosis  radius_mean  texture_mean  perimeter_mean  area_mean  \\\n",
      "0    842302         M        17.99         10.38          122.80     1001.0   \n",
      "1    842517         M        20.57         17.77          132.90     1326.0   \n",
      "2  84300903         M        19.69         21.25          130.00     1203.0   \n",
      "3  84348301         M        11.42         20.38           77.58      386.1   \n",
      "4  84358402         M        20.29         14.34          135.10     1297.0   \n",
      "\n",
      "   smoothness_mean  compactness_mean  concavity_mean  concave points_mean  \\\n",
      "0          0.11840           0.27760          0.3001              0.14710   \n",
      "1          0.08474           0.07864          0.0869              0.07017   \n",
      "2          0.10960           0.15990          0.1974              0.12790   \n",
      "3          0.14250           0.28390          0.2414              0.10520   \n",
      "4          0.10030           0.13280          0.1980              0.10430   \n",
      "\n",
      "      ...       texture_worst  perimeter_worst  area_worst  smoothness_worst  \\\n",
      "0     ...               17.33           184.60      2019.0            0.1622   \n",
      "1     ...               23.41           158.80      1956.0            0.1238   \n",
      "2     ...               25.53           152.50      1709.0            0.1444   \n",
      "3     ...               26.50            98.87       567.7            0.2098   \n",
      "4     ...               16.67           152.20      1575.0            0.1374   \n",
      "\n",
      "   compactness_worst  concavity_worst  concave points_worst  symmetry_worst  \\\n",
      "0             0.6656           0.7119                0.2654          0.4601   \n",
      "1             0.1866           0.2416                0.1860          0.2750   \n",
      "2             0.4245           0.4504                0.2430          0.3613   \n",
      "3             0.8663           0.6869                0.2575          0.6638   \n",
      "4             0.2050           0.4000                0.1625          0.2364   \n",
      "\n",
      "   fractal_dimension_worst  Unnamed: 32  \n",
      "0                  0.11890          NaN  \n",
      "1                  0.08902          NaN  \n",
      "2                  0.08758          NaN  \n",
      "3                  0.17300          NaN  \n",
      "4                  0.07678          NaN  \n",
      "\n",
      "[5 rows x 33 columns]\n",
      "Number of benign cancer:  357\n",
      "Number of malignant cancer:  212\n",
      "[9.82044672e-01 1.61764899e-02 1.55751075e-03 1.20931964e-04\n",
      " 8.82724536e-05 6.64883951e-06 4.01713682e-06 8.22017197e-07\n",
      " 3.44135279e-07 1.86018721e-07 6.99473205e-08 1.65908880e-08\n",
      " 6.99641650e-09 4.78318306e-09 2.93549214e-09 1.41684927e-09\n",
      " 8.29577731e-10 5.20405883e-10 4.08463983e-10 3.63313378e-10\n",
      " 1.72849737e-10 1.27487508e-10 7.72682973e-11 6.28357718e-11\n",
      " 3.57302295e-11 2.76396041e-11 8.14452259e-12 6.30211541e-12\n",
      " 4.43666945e-12 1.55344680e-12]\n",
      "[0.44272026 0.18971182 0.09393163 0.06602135 0.05495768 0.04024522]\n",
      "KNN accuracy: 0.91 (+/- 0.05)\n",
      "KNN accuracy: 0.91 (+/- 0.04)\n",
      "KNN accuracy: 0.92 (+/- 0.06)\n",
      "KNN accuracy: 0.92 (+/- 0.06)\n"
     ]
    },
    {
     "data": {
      "image/png": "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\n",
      "text/plain": [
       "<Figure size 432x288 with 1 Axes>"
      ]
     },
     "metadata": {
      "needs_background": "light"
     },
     "output_type": "display_data"
    },
    {
     "data": {
      "image/png": "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\n",
      "text/plain": [
       "<Figure size 432x288 with 1 Axes>"
      ]
     },
     "metadata": {
      "needs_background": "light"
     },
     "output_type": "display_data"
    },
    {
     "data": {
      "image/png": "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\n",
      "text/plain": [
       "<Figure size 432x288 with 1 Axes>"
      ]
     },
     "metadata": {
      "needs_background": "light"
     },
     "output_type": "display_data"
    }
   ],
   "source": [
    "# Import necessary packages\n",
    "\n",
    "import pandas as pd\n",
    "import numpy as np\n",
    "import seaborn as sns\n",
    "import matplotlib.pyplot as plt\n",
    "from sklearn.model_selection import train_test_split\n",
    "from sklearn.neighbors import KNeighborsClassifier\n",
    "from sklearn.ensemble import RandomForestClassifier\n",
    "from sklearn.naive_bayes import GaussianNB\n",
    "from sklearn.model_selection import cross_val_score\n",
    "from sklearn.metrics import f1_score\n",
    "from sklearn.metrics import confusion_matrix\n",
    "from sklearn.metrics import accuracy_score\n",
    "from sklearn.decomposition import PCA\n",
    "from sklearn import svm\n",
    "from sklearn.pipeline import Pipeline\n",
    "from keras.layers import Activation\n",
    "from keras.layers import Dense\n",
    "from keras.models import Sequential\n",
    "from sklearn.preprocessing import StandardScaler\n",
    "from sklearn.metrics import precision_score\n",
    "from sklearn.metrics import recall_score\n",
    "from sklearn.metrics import f1_score\n",
    "from sklearn.metrics import roc_curve\n",
    "from sklearn.model_selection import cross_val_score\n",
    "from sklearn.manifold import TSNE\n",
    "from sklearn import tree\n",
    "import graphviz\n",
    "\n",
    "# Load data\n",
    "data = pd.read_csv('breast_cancer.csv', delimiter=',')\n",
    "\n",
    "# Head method show first 5 rows of data\n",
    "print(data.head())\n",
    "\n",
    "# Drop unused columns\n",
    "columns = ['Unnamed: 32', 'id', 'diagnosis']\n",
    "\n",
    "# Convert strings -> integers\n",
    "d = {'M': 0, 'B': 1}\n",
    "\n",
    "# Define features and labels\n",
    "y = data['diagnosis'].map(d)\n",
    "X = data.drop(columns, axis=1)\n",
    "\n",
    "# Plot number of M - malignant and B - benign cancer\n",
    "\n",
    "ax = sns.countplot(y, label=\"Count\", palette=\"muted\")\n",
    "B, M = y.value_counts()\n",
    "print('Number of benign cancer: ', B)\n",
    "print('Number of malignant cancer: ', M)\n",
    "\n",
    "# Split dataset into training (80%) and test (20%) set\n",
    "X_train, X_test, y_train, y_test = train_test_split(X, y, test_size=0.2, random_state=0)\n",
    "\n",
    "# Normalize data\n",
    "X_train_N = (X_train-X_train.mean())/(X_train.max()-X_train.min())\n",
    "X_test_N = (X_test-X_train.mean())/(X_test.max()-X_test.min())\n",
    "\n",
    "####### PCA ######\n",
    "\n",
    "\n",
    "# PCA without std\n",
    "pca = PCA()\n",
    "pca.fit(X)\n",
    "print(pca.explained_variance_ratio_)\n",
    "plt.figure()\n",
    "plt.plot(pca.explained_variance_ratio_)\n",
    "plt.xlabel('number of components')\n",
    "plt.ylabel('% of variance')\n",
    "plt.title('PCA without Std')\n",
    "\n",
    "# PCA with std\n",
    "pca = PCA(n_components=6)\n",
    "X_std = StandardScaler().fit_transform(X)\n",
    "pca.fit(X_std)\n",
    "print(pca.explained_variance_ratio_)\n",
    "plt.figure()\n",
    "plt.plot(pca.explained_variance_ratio_)\n",
    "plt.xlabel('number of components')\n",
    "plt.ylabel('% of variance')\n",
    "plt.title('PCA with Std')\n",
    "\n",
    "###### K-Nearest Neighbors ######\n",
    "\n",
    "def KnearestNeighbors():\n",
    "    \"\"\"\n",
    "    Function for compute accuracy using K-NN algorithm\n",
    "    :return: k-NN score\n",
    "    \"\"\"\n",
    "    for i in range(1, 5):\n",
    "        knn = KNeighborsClassifier(n_neighbors=i)\n",
    "        knnp = Pipeline([\n",
    "            ('reduce_dim', pca),\n",
    "            ('knn', knn)\n",
    "        ])\n",
    "        k_score = cross_val_score(knnp, X, y, cv=10, scoring=\"accuracy\")\n",
    "        print(\"KNN accuracy: %0.2f (+/- %0.2f)\" % (k_score.mean(), k_score.std() * 2))\n",
    "KnearestNeighbors()"
   ]
  },
  {
   "cell_type": "code",
   "execution_count": null,
   "metadata": {},
   "outputs": [],
   "source": []
  }
 ],
 "metadata": {
  "kernelspec": {
   "display_name": "Python 3.6",
   "language": "python",
   "name": "python36"
  }
 },
 "nbformat": 4,
 "nbformat_minor": 2
},
  {
   "cell_type": "markdown",
   "metadata": {},
   "source": [
    "## Project 3: Clustering\n",
    "Use two different models to run classification task over https://www.kaggle.com/arjunbhasin2013/ccdata dataset\n"
   ]
  },
  {
   "cell_type": "markdown",
   "metadata": {},
   "source": [
    "### Model 3.1 - K-means\n",
   ]
  },
  {
   "cell_type": "code",
   "execution_count": 67,
   "metadata": {},
   "outputs": [
    {
     "name": "stdout",
     "output_type": "stream",
     "text": [
      "[[9.54000000e+01 0.00000000e+00 7.73170000e+02 ... 1.44400000e+02\n",
      "  0.00000000e+00 1.09325000e+03]\n",
      " [4.09007490e+01 3.20246742e+03 2.49514886e+03 ... 2.33986730e+01\n",
      "  1.34575640e+01 3.72708075e+02]\n",
      " [8.18182000e-01 9.09091000e-01 1.00000000e+00 ... 8.33333000e-01\n",
      "  8.33333000e-01 6.66667000e-01]\n",
      " [0.00000000e+00 0.00000000e+00 7.73170000e+02 ... 0.00000000e+00\n",
      "  0.00000000e+00 1.09325000e+03]]\n",
      "[1 2 0 3]\n",
      "coordinate: [  40.900749 3202.467416 2495.148862 ...   23.398673   13.457564\n",
      "  372.708075] label: 1\n",
      "coordinate: [0.818182 0.909091 1.       ... 0.833333 0.833333 0.666667] label: 2\n",
      "coordinate: [  95.4     0.    773.17 ...  144.4     0.   1093.25] label: 0\n",
      "coordinate: [   0.      0.    773.17 ...    0.      0.   1093.25] label: 3\n"
     ]
    },
    {
     "data": {
      "image/png": "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\n",
      "text/plain": [
       "<Figure size 432x288 with 1 Axes>"
      ]
     },
     "metadata": {},
     "output_type": "display_data"
    }
   ],
   "source": [
    "import numpy as np\n",
    "import matplotlib.pyplot as plt\n",
    "from matplotlib import style\n",
    "style.use(\"ggplot\")\n",
    "from sklearn.cluster import KMeans\n",
    "\n",
    "data = pd.read_csv(\"ccdata.csv\") \n",
    "\n",
    "X = np.array([data.BALANCE, data.BALANCE_FREQUENCY, data.PURCHASES, data.ONEOFF_PURCHASES])\n",
    "\n",
    "kmeans = KMeans(n_clusters=4)\n",
    "kmeans.fit(X)\n",
    "\n",
    "centroids = kmeans.cluster_centers_\n",
    "labels = kmeans.labels_\n",
    "\n",
    "print(centroids)\n",
    "print(labels)\n",
    "\n",
    "colors = [\"g.\",\"r.\",\"c.\",\"y.\"]\n",
    "\n",
    "for i in range(len(X)):\n",
    "    print(\"coordinate:\",X[i], \"label:\", labels[i])\n",
    "    plt.plot(X[i][0], X[i][1], colors[labels[i]], markersize = 10)\n",
    "\n",
    "\n",
    "plt.scatter(centroids[:, 0],centroids[:, 1], marker = \"x\", s=150, linewidths = 5, zorder = 10)\n",
    "\n",
    "plt.show()"
   ]
  },
  {
   "cell_type": "code",
   "execution_count": null,
   "metadata": {},
   "outputs": [],
   "source": []
  }
 ],
 "metadata": {
  "kernelspec": {
   "display_name": "Python 3.6",
   "language": "python",
   "name": "python36"
  }
 },
 "nbformat": 4,
 "nbformat_minor": 2
},
  {
   "cell_type": "markdown",
   "metadata": {},
   "source": [
    "### Model 3.2 - Hierarchial clustering\n",
   ]
  },
  {
   "cell_type": "code",
   "execution_count": 99,
   "metadata": {},
   "outputs": [
    {
     "name": "stdout",
     "output_type": "stream",
     "text": [
      "[1 0]\n"
     ]
    },
    {
     "data": {
      "text/plain": [
       "<matplotlib.collections.PathCollection at 0x7f396978acf8>"
      ]
     },
     "execution_count": 99,
     "metadata": {},
     "output_type": "execute_result"
    },
    {
     "data": {
      "image/png": "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\n",
      "text/plain": [
       "<Figure size 432x288 with 1 Axes>"
      ]
     },
     "metadata": {
      "needs_background": "light"
     },
     "output_type": "display_data"
    }
   ],
   "source": [
    "import matplotlib.pyplot as plt\n",
    "import pandas as pd\n",
    "%matplotlib inline\n",
    "import numpy as np\n",
    "\n",
    "data=pd.read_csv(\"ccdata.csv\")\n",
    "\n",
    "X = np.array([data.BALANCE, data.PURCHASES])\n",
    "\n",
    "from sklearn.cluster import AgglomerativeClustering\n",
    "\n",
    "cluster = AgglomerativeClustering(n_clusters=2, affinity='euclidean', linkage='ward')\n",
    "cluster.fit_predict(X)\n",
    "\n",
    "print(cluster.labels_)\n",
    "\n",
    "plt.scatter(X[:,0],X[:,1], c=cluster.labels_, cmap='rainbow')"
   ]
  },
  {
   "cell_type": "code",
   "execution_count": null,
   "metadata": {},
   "outputs": [],
   "source": []
  }
 ],
 "metadata": {
  "kernelspec": {
   "display_name": "Python 3.6",
   "language": "python",
   "name": "python36"
  }
 },
 "nbformat": 4,
 "nbformat_minor": 2
},
 "metadata": {
  "kernelspec": {
   "display_name": "Python 3",
   "language": "python",
   "name": "python3"
  },
  "language_info": {
   "codemirror_mode": {
    "name": "ipython",
    "version": 3
   },
   "file_extension": ".py",
   "mimetype": "text/x-python",
   "name": "python",
   "nbconvert_exporter": "python",
   "pygments_lexer": "ipython3",
   "version": "3.7.6"
  }
 },
 "nbformat": 4,
 "nbformat_minor": 4
}
